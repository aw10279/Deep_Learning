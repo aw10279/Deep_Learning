{
 "cells": [
  {
   "cell_type": "code",
   "execution_count": 1,
   "metadata": {},
   "outputs": [],
   "source": [
    "#设置所有分类目录的名称\n",
    "import os\n",
    "\n",
    "base_dir = 'E:\\python projects\\cats_and_dogs'\n",
    "train_dir = os.path.join(base_dir, 'train')\n",
    "validation_dir = os.path.join(base_dir, 'validation')\n",
    "train_cats_dir = os.path.join(train_dir, 'cats')\n",
    "train_dogs_dir = os.path.join(train_dir, 'dogs')\n",
    "validation_cats_dir = os.path.join(validation_dir, 'cats')\n",
    "validation_dogs_dir = os.path.join(validation_dir, 'dogs')"
   ]
  },
  {
   "cell_type": "code",
   "execution_count": 2,
   "metadata": {},
   "outputs": [
    {
     "name": "stdout",
     "output_type": "stream",
     "text": [
      "1000 1000 500 500\n"
     ]
    }
   ],
   "source": [
    "#得到数据集的大小\n",
    "print(len(os.listdir(train_cats_dir)), len(os.listdir(train_dogs_dir)),len(os.listdir(validation_cats_dir)),len(os.listdir(validation_dogs_dir)))"
   ]
  },
  {
   "cell_type": "code",
   "execution_count": 3,
   "metadata": {},
   "outputs": [],
   "source": [
    "from tensorflow.keras import layers\n",
    "from tensorflow.keras import Model"
   ]
  },
  {
   "cell_type": "code",
   "execution_count": 4,
   "metadata": {},
   "outputs": [],
   "source": [
    "#构建卷积神经网络模型\n",
    "img_input = layers.Input(shape=(150,150,3))\n",
    "\n",
    "x = layers.Conv2D(16, 3, activation='relu')(img_input)\n",
    "x = layers.MaxPooling2D(2)(x)\n",
    "\n",
    "x = layers.Conv2D(32, 3, activation='relu')(x)\n",
    "x = layers.MaxPooling2D(2)(x)\n",
    "\n",
    "x = layers.Conv2D(64, 3, activation='relu')(x)\n",
    "x = layers.MaxPooling2D(2)(x)"
   ]
  },
  {
   "cell_type": "code",
   "execution_count": 5,
   "metadata": {},
   "outputs": [],
   "source": [
    "#最后加上全连接层、Dropout层和分类层\n",
    "x = layers.Flatten()(x)\n",
    "x = layers.Dense(512, activation='relu')(x)\n",
    "x = layers.Dropout(0.5)(x)\n",
    "\n",
    "output = layers.Dense(1, activation='sigmoid')(x)\n",
    "\n",
    "model = Model(img_input, output)"
   ]
  },
  {
   "cell_type": "code",
   "execution_count": 6,
   "metadata": {},
   "outputs": [
    {
     "name": "stdout",
     "output_type": "stream",
     "text": [
      "_________________________________________________________________\n",
      "Layer (type)                 Output Shape              Param #   \n",
      "=================================================================\n",
      "input_1 (InputLayer)         (None, 150, 150, 3)       0         \n",
      "_________________________________________________________________\n",
      "conv2d (Conv2D)              (None, 148, 148, 16)      448       \n",
      "_________________________________________________________________\n",
      "max_pooling2d (MaxPooling2D) (None, 74, 74, 16)        0         \n",
      "_________________________________________________________________\n",
      "conv2d_1 (Conv2D)            (None, 72, 72, 32)        4640      \n",
      "_________________________________________________________________\n",
      "max_pooling2d_1 (MaxPooling2 (None, 36, 36, 32)        0         \n",
      "_________________________________________________________________\n",
      "conv2d_2 (Conv2D)            (None, 34, 34, 64)        18496     \n",
      "_________________________________________________________________\n",
      "max_pooling2d_2 (MaxPooling2 (None, 17, 17, 64)        0         \n",
      "_________________________________________________________________\n",
      "flatten (Flatten)            (None, 18496)             0         \n",
      "_________________________________________________________________\n",
      "dense (Dense)                (None, 512)               9470464   \n",
      "_________________________________________________________________\n",
      "dropout (Dropout)            (None, 512)               0         \n",
      "_________________________________________________________________\n",
      "dense_1 (Dense)              (None, 1)                 513       \n",
      "=================================================================\n",
      "Total params: 9,494,561\n",
      "Trainable params: 9,494,561\n",
      "Non-trainable params: 0\n",
      "_________________________________________________________________\n"
     ]
    }
   ],
   "source": [
    "#查看网络结构\n",
    "model.summary()"
   ]
  },
  {
   "cell_type": "code",
   "execution_count": 7,
   "metadata": {},
   "outputs": [],
   "source": [
    "#设置损失函数、优化器（含步长）和性能评估函数，并编译进模型\n",
    "from tensorflow.keras.optimizers import RMSprop\n",
    "model.compile(loss='binary_crossentropy', optimizer=RMSprop(lr=0.001), metrics=['acc'])"
   ]
  },
  {
   "cell_type": "code",
   "execution_count": 8,
   "metadata": {},
   "outputs": [
    {
     "name": "stdout",
     "output_type": "stream",
     "text": [
      "Found 2000 images belonging to 2 classes.\n",
      "Found 1000 images belonging to 2 classes.\n"
     ]
    }
   ],
   "source": [
    "#模型建完，开始准备数据。分别为训练集和测试集创建数据生成器，并设置生成器的参数，用于为模型连续生成标准化的数据。\n",
    "from tensorflow.keras.preprocessing.image import ImageDataGenerator\n",
    "\n",
    "#实例化，设置的是对单张图片的操作属性（缩放、剪切、拉伸等）\n",
    "train_datagen = ImageDataGenerator(\n",
    "    rescale=1./255,\n",
    "    rotation_range=40,\n",
    "    width_shift_range=0.2,\n",
    "    height_shift_range=0.2,\n",
    "    shear_range=0.2,\n",
    "    zoom_range=0.2,\n",
    "    horizontal_flip=True,)\n",
    "\n",
    "test_datagen = ImageDataGenerator(rescale=1./255)\n",
    "#用实例的方法构建生成器，设置的是生成流程的属性（目录、batch数、分类类别等）\n",
    "train_generator = train_datagen.flow_from_directory(train_dir, target_size=(150,150), batch_size=20, class_mode='binary')\n",
    "validation_generator = test_datagen.flow_from_directory(validation_dir, target_size=(150,150), batch_size=20, class_mode='binary')\n"
   ]
  },
  {
   "cell_type": "code",
   "execution_count": 11,
   "metadata": {},
   "outputs": [
    {
     "ename": "AttributeError",
     "evalue": "'DirectoryIterator' object has no attribute 'label'",
     "output_type": "error",
     "traceback": [
      "\u001b[1;31m---------------------------------------------------------------------------\u001b[0m",
      "\u001b[1;31mAttributeError\u001b[0m                            Traceback (most recent call last)",
      "\u001b[1;32m<ipython-input-11-c6d54958d07f>\u001b[0m in \u001b[0;36m<module>\u001b[1;34m()\u001b[0m\n\u001b[1;32m----> 1\u001b[1;33m \u001b[0mprint\u001b[0m\u001b[1;33m(\u001b[0m\u001b[0mtrain_generator\u001b[0m\u001b[1;33m.\u001b[0m\u001b[0mlabel\u001b[0m\u001b[1;33m)\u001b[0m\u001b[1;33m\u001b[0m\u001b[0m\n\u001b[0m",
      "\u001b[1;31mAttributeError\u001b[0m: 'DirectoryIterator' object has no attribute 'label'"
     ]
    }
   ],
   "source": [
    "print(train_generator.label)"
   ]
  },
  {
   "cell_type": "code",
   "execution_count": 13,
   "metadata": {
    "scrolled": true
   },
   "outputs": [
    {
     "name": "stdout",
     "output_type": "stream",
     "text": [
      "Epoch 1/30\n",
      " - 101s - loss: 0.6725 - acc: 0.5915 - val_loss: 0.6028 - val_acc: 0.6720\n",
      "Epoch 2/30\n",
      " - 94s - loss: 0.6471 - acc: 0.6345 - val_loss: 0.6065 - val_acc: 0.6400\n",
      "Epoch 3/30\n",
      " - 87s - loss: 0.6370 - acc: 0.6395 - val_loss: 0.5915 - val_acc: 0.6830\n",
      "Epoch 4/30\n",
      " - 88s - loss: 0.6336 - acc: 0.6550 - val_loss: 0.5763 - val_acc: 0.6890\n",
      "Epoch 5/30\n",
      " - 86s - loss: 0.6186 - acc: 0.6710 - val_loss: 0.5607 - val_acc: 0.7050\n",
      "Epoch 6/30\n",
      " - 88s - loss: 0.6076 - acc: 0.6820 - val_loss: 0.5484 - val_acc: 0.7180\n",
      "Epoch 7/30\n",
      " - 87s - loss: 0.5882 - acc: 0.6800 - val_loss: 0.6424 - val_acc: 0.6820\n",
      "Epoch 8/30\n",
      " - 87s - loss: 0.6102 - acc: 0.6850 - val_loss: 0.5483 - val_acc: 0.7300\n",
      "Epoch 9/30\n",
      " - 88s - loss: 0.5947 - acc: 0.6910 - val_loss: 0.5802 - val_acc: 0.6860\n",
      "Epoch 10/30\n",
      " - 87s - loss: 0.5668 - acc: 0.6970 - val_loss: 0.5314 - val_acc: 0.7270\n",
      "Epoch 11/30\n",
      " - 87s - loss: 0.5757 - acc: 0.7030 - val_loss: 0.5586 - val_acc: 0.7150\n",
      "Epoch 12/30\n",
      " - 87s - loss: 0.5790 - acc: 0.7025 - val_loss: 0.5162 - val_acc: 0.7480\n",
      "Epoch 13/30\n",
      " - 87s - loss: 0.5596 - acc: 0.7135 - val_loss: 0.5213 - val_acc: 0.7420\n",
      "Epoch 14/30\n",
      " - 87s - loss: 0.5653 - acc: 0.7190 - val_loss: 0.5005 - val_acc: 0.7570\n",
      "Epoch 15/30\n",
      " - 88s - loss: 0.5651 - acc: 0.7055 - val_loss: 0.7487 - val_acc: 0.6760\n",
      "Epoch 16/30\n",
      " - 90s - loss: 0.5521 - acc: 0.7205 - val_loss: 0.5239 - val_acc: 0.7520\n",
      "Epoch 17/30\n",
      " - 88s - loss: 0.5603 - acc: 0.7175 - val_loss: 0.5435 - val_acc: 0.7280\n",
      "Epoch 18/30\n",
      " - 87s - loss: 0.5445 - acc: 0.7270 - val_loss: 0.4856 - val_acc: 0.7560\n",
      "Epoch 19/30\n",
      " - 87s - loss: 0.5570 - acc: 0.7235 - val_loss: 0.5208 - val_acc: 0.7340\n",
      "Epoch 20/30\n",
      " - 86s - loss: 0.5545 - acc: 0.7195 - val_loss: 0.5398 - val_acc: 0.7190\n",
      "Epoch 21/30\n",
      " - 88s - loss: 0.5483 - acc: 0.7270 - val_loss: 0.5161 - val_acc: 0.7540\n",
      "Epoch 22/30\n",
      " - 88s - loss: 0.5369 - acc: 0.7500 - val_loss: 0.5543 - val_acc: 0.7530\n",
      "Epoch 23/30\n",
      " - 87s - loss: 0.5517 - acc: 0.7325 - val_loss: 0.5747 - val_acc: 0.7160\n",
      "Epoch 24/30\n",
      " - 88s - loss: 0.5372 - acc: 0.7380 - val_loss: 0.5203 - val_acc: 0.7420\n",
      "Epoch 25/30\n",
      " - 86s - loss: 0.5252 - acc: 0.7450 - val_loss: 0.4691 - val_acc: 0.7750\n",
      "Epoch 26/30\n",
      " - 87s - loss: 0.5248 - acc: 0.7440 - val_loss: 0.4684 - val_acc: 0.7710\n",
      "Epoch 27/30\n",
      " - 86s - loss: 0.5333 - acc: 0.7280 - val_loss: 0.4838 - val_acc: 0.7850\n",
      "Epoch 28/30\n",
      " - 90s - loss: 0.5244 - acc: 0.7465 - val_loss: 0.4740 - val_acc: 0.7740\n",
      "Epoch 29/30\n",
      " - 93s - loss: 0.5340 - acc: 0.7485 - val_loss: 0.4589 - val_acc: 0.7720\n",
      "Epoch 30/30\n",
      " - 90s - loss: 0.5191 - acc: 0.7460 - val_loss: 0.4819 - val_acc: 0.7780\n"
     ]
    }
   ],
   "source": [
    "#用准备好的模型和生成器进行训练。\n",
    "history = model.fit_generator(train_generator, steps_per_epoch=100, epochs=30, validation_data=validation_generator, validation_steps=50, verbose=2)"
   ]
  },
  {
   "cell_type": "code",
   "execution_count": 14,
   "metadata": {},
   "outputs": [
    {
     "data": {
      "text/plain": [
       "Text(0.5,1,'Training and validation loss')"
      ]
     },
     "execution_count": 14,
     "metadata": {},
     "output_type": "execute_result"
    },
    {
     "data": {
      "image/png": "[encoded data removed]",
      "text/plain": [
       "<Figure size 432x288 with 1 Axes>"
      ]
     },
     "metadata": {},
     "output_type": "display_data"
    },
    {
     "data": {
      "image/png": "[encoded data removed]",
      "text/plain": [
       "<Figure size 432x288 with 1 Axes>"
      ]
     },
     "metadata": {},
     "output_type": "display_data"
    }
   ],
   "source": [
    "#分别用训练集和测试集的正确率、损失率作图，过拟合消失。\n",
    "acc = history.history['acc']\n",
    "val_acc =history.history['val_acc']\n",
    "loss = history.history['loss']\n",
    "val_loss = history.history['val_loss']\n",
    "\n",
    "epochs = range(len(acc))\n",
    "plt.plot(epochs, acc)\n",
    "plt.plot(epochs, val_acc)\n",
    "plt.title('Training and validation accuracy')\n",
    "\n",
    "plt.figure()\n",
    "\n",
    "plt.plot(epochs, loss)\n",
    "plt.plot(epochs, val_loss)\n",
    "plt.title('Training and validation loss')"
   ]
  },
  {
   "cell_type": "code",
   "execution_count": null,
   "metadata": {},
   "outputs": [],
   "source": [
    "#终止内核，释放内存。\n",
    "import os, signal\n",
    "#os.kill(os.getpid(), signal.SIGKILL) "
   ]
  }
 ],
 "metadata": {
  "kernelspec": {
   "display_name": "Python 3",
   "language": "python",
   "name": "python3"
  },
  "language_info": {
   "codemirror_mode": {
    "name": "ipython",
    "version": 3
   },
   "file_extension": ".py",
   "mimetype": "text/x-python",
   "name": "python",
   "nbconvert_exporter": "python",
   "pygments_lexer": "ipython3",
   "version": "3.6.5"
  }
 },
 "nbformat": 4,
 "nbformat_minor": 2
}
