{
 "cells": [
  {
   "cell_type": "code",
   "execution_count": 62,
   "metadata": {},
   "outputs": [],
   "source": [
    "base_dir = 'E:\\\\python projects\\\\face_identity'\n",
    "num_classes = 2\n",
    "image_size = 150"
   ]
  },
  {
   "cell_type": "code",
   "execution_count": 63,
   "metadata": {},
   "outputs": [],
   "source": [
    "import os\n",
    "import numpy as np\n",
    "import random\n",
    "from tensorflow.keras.preprocessing.image import img_to_array, load_img\n",
    "from sklearn.model_selection import train_test_split\n",
    "from keras import utils\n",
    "\n",
    "def data_provider(data_path):\n",
    "    images = []\n",
    "    labels = []\n",
    "    \n",
    "    for class_name in os.listdir(data_path):\n",
    "        class_path = os.path.join(data_path, class_name)\n",
    "        for pic_name in os.listdir(class_path):\n",
    "            pic_path = os.path.join(class_path, pic_name)\n",
    "            if pic_path.endswith('.jpg'):\n",
    "                #load_img直接载入图片，并可重新设置尺寸，返回的是图片格式。若用cv2.imread载入，返回的是数组格式。\n",
    "                image = load_img(pic_path, target_size=(image_size, image_size))  \n",
    "                image = img_to_array(image)  #将载入的图片转换为数组，才可进行下面的操作\n",
    "                images.append(image)\n",
    "                labels.append(class_name)\n",
    "                \n",
    "    images = np.array(images)   #此时的images是一个元素为数组的列表，需再转换一次，形成4维数组才能使用         \n",
    "    labels = np.array([0 if label.endswith('bear') else 1 for label in labels])\n",
    "    print('shape of total images: ',images.shape)\n",
    "    print('shape of total labels: ',labels.shape)\n",
    "    \n",
    "    train_images, valid_images, train_labels, valid_labels = train_test_split(images, labels, test_size=0.3, \n",
    "                                                                              random_state = random.randint(0,100))\n",
    "    _, test_images, _, test_labels = train_test_split(images, labels, test_size=0.5, \n",
    "                                                                              random_state = random.randint(0,100))\n",
    "    \n",
    "    print('shape of train images: ',train_images.shape)\n",
    "    print('shape of valid images: ',valid_images.shape)\n",
    "    print('shape of test images: ',test_images.shape)\n",
    "    #训练模型采用categorical_crossentropy作为损失函数，要求标签集必须采用one-hot编码形式\n",
    "    train_labels = utils.to_categorical(train_labels, num_classes)                        \n",
    "    valid_labels = utils.to_categorical(valid_labels, num_classes)            \n",
    "    test_labels = utils.to_categorical(test_labels, num_classes)   \n",
    "    \n",
    "    return train_images, valid_images, test_images, train_labels, valid_labels, test_labels\n",
    "    "
   ]
  },
  {
   "cell_type": "code",
   "execution_count": 64,
   "metadata": {},
   "outputs": [
    {
     "name": "stdout",
     "output_type": "stream",
     "text": [
      "_________________________________________________________________\n",
      "Layer (type)                 Output Shape              Param #   \n",
      "=================================================================\n",
      "input_8 (InputLayer)         (None, 150, 150, 3)       0         \n",
      "_________________________________________________________________\n",
      "conv2d_42 (Conv2D)           (None, 148, 148, 16)      448       \n",
      "_________________________________________________________________\n",
      "conv2d_43 (Conv2D)           (None, 146, 146, 16)      2320      \n",
      "_________________________________________________________________\n",
      "max_pooling2d_21 (MaxPooling (None, 73, 73, 16)        0         \n",
      "_________________________________________________________________\n",
      "conv2d_44 (Conv2D)           (None, 71, 71, 32)        4640      \n",
      "_________________________________________________________________\n",
      "conv2d_45 (Conv2D)           (None, 69, 69, 32)        9248      \n",
      "_________________________________________________________________\n",
      "max_pooling2d_22 (MaxPooling (None, 34, 34, 32)        0         \n",
      "_________________________________________________________________\n",
      "dropout_27 (Dropout)         (None, 34, 34, 32)        0         \n",
      "_________________________________________________________________\n",
      "conv2d_46 (Conv2D)           (None, 32, 32, 64)        18496     \n",
      "_________________________________________________________________\n",
      "conv2d_47 (Conv2D)           (None, 30, 30, 64)        36928     \n",
      "_________________________________________________________________\n",
      "max_pooling2d_23 (MaxPooling (None, 15, 15, 64)        0         \n",
      "_________________________________________________________________\n",
      "dropout_28 (Dropout)         (None, 15, 15, 64)        0         \n",
      "_________________________________________________________________\n",
      "flatten_7 (Flatten)          (None, 14400)             0         \n",
      "_________________________________________________________________\n",
      "dense_13 (Dense)             (None, 512)               7373312   \n",
      "_________________________________________________________________\n",
      "dropout_29 (Dropout)         (None, 512)               0         \n",
      "_________________________________________________________________\n",
      "dense_14 (Dense)             (None, 2)                 1026      \n",
      "=================================================================\n",
      "Total params: 7,446,418\n",
      "Trainable params: 7,446,418\n",
      "Non-trainable params: 0\n",
      "_________________________________________________________________\n"
     ]
    }
   ],
   "source": [
    "from tensorflow.keras import layers\n",
    "from tensorflow.keras import Model\n",
    "\n",
    "#构建卷积神经网络模型\n",
    "img_input = layers.Input(shape=(image_size,image_size,3))\n",
    "\n",
    "x = layers.Conv2D(16, 3, activation='relu')(img_input)\n",
    "x = layers.Conv2D(16, 3, activation='relu')(x)\n",
    "x = layers.MaxPooling2D(2)(x)\n",
    "\n",
    "x = layers.Conv2D(32, 3, activation='relu')(x)\n",
    "x = layers.Conv2D(32, 3, activation='relu')(x)\n",
    "x = layers.MaxPooling2D(2)(x)\n",
    "x = layers.Dropout(0.25)(x)\n",
    "\n",
    "x = layers.Conv2D(64, 3, activation='relu')(x)\n",
    "x = layers.Conv2D(64, 3, activation='relu')(x)\n",
    "x = layers.MaxPooling2D(2)(x)\n",
    "x = layers.Dropout(0.25)(x)\n",
    "\n",
    "#最后加上全连接层、Dropout层和分类层\n",
    "x = layers.Flatten()(x)\n",
    "x = layers.Dense(512, activation='relu')(x)\n",
    "x = layers.Dropout(0.5)(x)\n",
    "output = layers.Dense(num_classes, activation='softmax')(x)\n",
    "\n",
    "model = Model(img_input, output)\n",
    "\n",
    "#查看网络结构\n",
    "model.summary()"
   ]
  },
  {
   "cell_type": "code",
   "execution_count": 65,
   "metadata": {},
   "outputs": [],
   "source": [
    "from tensorflow.keras.optimizers import RMSprop\n",
    "model.compile(loss='categorical_crossentropy', optimizer=RMSprop(lr=0.001), metrics=['acc'])"
   ]
  },
  {
   "cell_type": "code",
   "execution_count": 66,
   "metadata": {},
   "outputs": [
    {
     "name": "stdout",
     "output_type": "stream",
     "text": [
      "shape of total images:  (2000, 150, 150, 3)\n",
      "shape of total labels:  (2000,)\n",
      "shape of train images:  (1400, 150, 150, 3)\n",
      "shape of valid images:  (600, 150, 150, 3)\n",
      "shape of test images:  (1000, 150, 150, 3)\n",
      "Epoch 1/30\n",
      " - 153s - loss: 0.7224 - acc: 0.5129 - val_loss: 0.6966 - val_acc: 0.5076\n",
      "Epoch 2/30\n",
      " - 148s - loss: 0.7068 - acc: 0.5293 - val_loss: 0.6933 - val_acc: 0.5057\n",
      "Epoch 3/30\n",
      " - 147s - loss: 0.6914 - acc: 0.5507 - val_loss: 0.7073 - val_acc: 0.5013\n",
      "Epoch 4/30\n",
      " - 147s - loss: 0.7131 - acc: 0.5821 - val_loss: 0.6671 - val_acc: 0.5821\n",
      "Epoch 5/30\n",
      " - 145s - loss: 0.6861 - acc: 0.5836 - val_loss: 0.6499 - val_acc: 0.6155\n",
      "Epoch 6/30\n",
      " - 145s - loss: 0.6711 - acc: 0.6036 - val_loss: 0.8732 - val_acc: 0.5170\n",
      "Epoch 7/30\n",
      " - 146s - loss: 0.6716 - acc: 0.6079 - val_loss: 0.6415 - val_acc: 0.6162\n",
      "Epoch 8/30\n",
      " - 147s - loss: 0.6692 - acc: 0.6143 - val_loss: 0.6423 - val_acc: 0.6237\n",
      "Epoch 9/30\n",
      " - 145s - loss: 0.6659 - acc: 0.6236 - val_loss: 0.6327 - val_acc: 0.6439\n",
      "Epoch 10/30\n",
      " - 145s - loss: 0.6464 - acc: 0.6400 - val_loss: 0.6586 - val_acc: 0.5934\n",
      "Epoch 11/30\n",
      " - 148s - loss: 0.6498 - acc: 0.6136 - val_loss: 0.6343 - val_acc: 0.6357\n",
      "Epoch 12/30\n",
      " - 145s - loss: 0.6391 - acc: 0.6436 - val_loss: 0.6063 - val_acc: 0.6793\n",
      "Epoch 13/30\n",
      " - 148s - loss: 0.6366 - acc: 0.6600 - val_loss: 0.5859 - val_acc: 0.7014\n",
      "Epoch 14/30\n",
      " - 147s - loss: 0.6211 - acc: 0.6479 - val_loss: 0.6139 - val_acc: 0.6654\n",
      "Epoch 15/30\n",
      " - 146s - loss: 0.6250 - acc: 0.6664 - val_loss: 0.6363 - val_acc: 0.6206\n",
      "Epoch 16/30\n",
      " - 148s - loss: 0.6187 - acc: 0.6729 - val_loss: 0.5990 - val_acc: 0.6843\n",
      "Epoch 17/30\n",
      " - 146s - loss: 0.6081 - acc: 0.6879 - val_loss: 0.6509 - val_acc: 0.6149\n",
      "Epoch 18/30\n",
      " - 149s - loss: 0.6154 - acc: 0.6814 - val_loss: 0.5914 - val_acc: 0.6755\n",
      "Epoch 19/30\n",
      " - 145s - loss: 0.6349 - acc: 0.6650 - val_loss: 0.5956 - val_acc: 0.6894\n",
      "Epoch 20/30\n",
      " - 147s - loss: 0.6037 - acc: 0.6764 - val_loss: 0.5984 - val_acc: 0.6591\n",
      "Epoch 21/30\n",
      " - 145s - loss: 0.5984 - acc: 0.6771 - val_loss: 0.5981 - val_acc: 0.6629\n",
      "Epoch 22/30\n",
      " - 145s - loss: 0.6205 - acc: 0.6779 - val_loss: 0.6107 - val_acc: 0.6806\n",
      "Epoch 23/30\n",
      " - 145s - loss: 0.5976 - acc: 0.6886 - val_loss: 0.7272 - val_acc: 0.6250\n",
      "Epoch 24/30\n",
      " - 148s - loss: 0.6119 - acc: 0.6893 - val_loss: 0.5811 - val_acc: 0.6723\n",
      "Epoch 25/30\n",
      " - 146s - loss: 0.5870 - acc: 0.6900 - val_loss: 0.5948 - val_acc: 0.6913\n",
      "Epoch 26/30\n",
      " - 145s - loss: 0.6122 - acc: 0.6521 - val_loss: 0.7483 - val_acc: 0.6256\n",
      "Epoch 27/30\n",
      " - 145s - loss: 0.6002 - acc: 0.6950 - val_loss: 0.5674 - val_acc: 0.6970\n",
      "Epoch 28/30\n",
      " - 146s - loss: 0.5837 - acc: 0.6936 - val_loss: 0.5512 - val_acc: 0.7140\n",
      "Epoch 29/30\n",
      " - 147s - loss: 0.5939 - acc: 0.6829 - val_loss: 0.6276 - val_acc: 0.6420\n",
      "Epoch 30/30\n",
      " - 145s - loss: 0.5849 - acc: 0.7050 - val_loss: 0.5525 - val_acc: 0.7146\n"
     ]
    }
   ],
   "source": [
    "from tensorflow.keras.preprocessing.image import ImageDataGenerator\n",
    "\n",
    "train_images, valid_images, test_images, train_labels, valid_labels, test_labels = data_provider(base_dir)\n",
    "\n",
    "train_datagen = ImageDataGenerator(\n",
    "    rescale=1./255,\n",
    "    rotation_range=40,\n",
    "    width_shift_range=0.2,\n",
    "    height_shift_range=0.2,\n",
    "    shear_range=0.2,\n",
    "    zoom_range=0.2,\n",
    "    horizontal_flip=True,)\n",
    "valid_test_datagen = ImageDataGenerator(rescale=1./255)\n",
    "#flow_from_directory是从文件夹读取数据，flow是从内存读取。flow_from_directory可以减小内存占用，但如果需提前对数据做动态处理，只能用flow。\n",
    "history = model.fit_generator(train_datagen.flow(train_images, train_labels, batch_size=20), steps_per_epoch=70, epochs=30, \n",
    "                              validation_data=(valid_test_datagen.flow(valid_images, valid_labels)), validation_steps=50, verbose=2)"
   ]
  },
  {
   "cell_type": "code",
   "execution_count": 67,
   "metadata": {},
   "outputs": [
    {
     "data": {
      "text/plain": [
       "Text(0.5,1,'Training and validation loss')"
      ]
     },
     "execution_count": 67,
     "metadata": {},
     "output_type": "execute_result"
    },
    {
     "data": {
      "image/png": "[encoded data removed]",
      "text/plain": [
       "<Figure size 432x288 with 1 Axes>"
      ]
     },
     "metadata": {},
     "output_type": "display_data"
    },
    {
     "data": {
      "image/png": "[encoded data removed]",
      "text/plain": [
       "<Figure size 432x288 with 1 Axes>"
      ]
     },
     "metadata": {},
     "output_type": "display_data"
    }
   ],
   "source": [
    "%matplotlib inline\n",
    "import matplotlib.pyplot as plt\n",
    "\n",
    "acc = history.history['acc']\n",
    "val_acc =history.history['val_acc']\n",
    "loss = history.history['loss']\n",
    "val_loss = history.history['val_loss']\n",
    "\n",
    "epochs = range(len(acc))\n",
    "plt.plot(epochs, acc)\n",
    "plt.plot(epochs, val_acc)\n",
    "plt.title('Training and validation accuracy')\n",
    "\n",
    "plt.figure()\n",
    "\n",
    "plt.plot(epochs, loss)\n",
    "plt.plot(epochs, val_loss)\n",
    "plt.title('Training and validation loss')"
   ]
  },
  {
   "cell_type": "code",
   "execution_count": 68,
   "metadata": {},
   "outputs": [
    {
     "name": "stdout",
     "output_type": "stream",
     "text": [
      "1000/1000 [==============================] - 24s 24ms/step\n",
      "[7.456990957260132, 0.532]\n"
     ]
    }
   ],
   "source": [
    "score = model.evaluate(test_images, test_labels, verbose=1)\n",
    "print(score)"
   ]
  },
  {
   "cell_type": "code",
   "execution_count": 69,
   "metadata": {},
   "outputs": [],
   "source": [
    "model.save('E:\\\\python projects\\\\face_identity\\\\face_identity.h5')"
   ]
  },
  {
   "cell_type": "code",
   "execution_count": null,
   "metadata": {},
   "outputs": [],
   "source": []
  }
 ],
 "metadata": {
  "kernelspec": {
   "display_name": "Python 3",
   "language": "python",
   "name": "python3"
  },
  "language_info": {
   "codemirror_mode": {
    "name": "ipython",
    "version": 3
   },
   "file_extension": ".py",
   "mimetype": "text/x-python",
   "name": "python",
   "nbconvert_exporter": "python",
   "pygments_lexer": "ipython3",
   "version": "3.6.5"
  }
 },
 "nbformat": 4,
 "nbformat_minor": 2
}
